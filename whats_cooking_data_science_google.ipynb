{
  "cells": [
    {
      "cell_type": "markdown",
      "id": "65ee6527",
      "metadata": {
        "id": "65ee6527"
      },
      "source": [
        "# Establishing connection with database\n",
        "Make sure to install following libraries."
      ]
    },
    {
      "cell_type": "code",
      "source": [
        "%%sh\n",
        "curl https://packages.microsoft.com/keys/microsoft.asc | apt-key add -\n",
        "curl https://packages.microsoft.com/config/ubuntu/16.04/prod.list > /etc/apt/sources.list.d/mssql-release.list\n",
        "sudo apt-get update\n",
        "sudo ACCEPT_EULA=Y apt-get -q -y install msodbcsql17"
      ],
      "metadata": {
        "id": "QxrhkXoV17et"
      },
      "id": "QxrhkXoV17et",
      "execution_count": null,
      "outputs": []
    },
    {
      "cell_type": "code",
      "source": [
        "!sudo apt-get install unixodbc-dev\n",
        "!pip install pyodbc\n",
        "!pip install chart_studio"
      ],
      "metadata": {
        "id": "hUCygtkE195P"
      },
      "id": "hUCygtkE195P",
      "execution_count": null,
      "outputs": []
    },
    {
      "cell_type": "code",
      "source": [
        "import pyodbc\n",
        "import pandas as pd\n",
        "import numpy as np\n",
        "import matplotlib.pyplot as plt\n",
        "%matplotlib inline\n",
        "server = 'whats-cooking.database.windows.net'\n",
        "database = 'whats-cooking'\n",
        "username = 'abehrhof'\n",
        "password = 'E9RE8ih!fBaE9P$^*5z$Ztr*' \n",
        "conn = pyodbc.connect('DRIVER={ODBC Driver 17 for SQL Server};SERVER='+server+';DATABASE='+database+';UID='+username+';PWD='+ password)"
      ],
      "metadata": {
        "id": "9JB9ZXwEKkQP"
      },
      "id": "9JB9ZXwEKkQP",
      "execution_count": null,
      "outputs": []
    },
    {
      "cell_type": "markdown",
      "source": [
        "# A Peek inside database"
      ],
      "metadata": {
        "id": "1mzClgWxGxg0"
      },
      "id": "1mzClgWxGxg0"
    },
    {
      "cell_type": "code",
      "source": [
        "df = pd.read_sql_query(\"SELECT * FROM Recipes\",conn)\n",
        "df\n",
        "# df = pd.read_sql_query(\"SELECT * FROM RecipesFavoritedByUser \",conn)\n",
        "# df"
      ],
      "metadata": {
        "id": "7Rtnis8TG2L-"
      },
      "id": "7Rtnis8TG2L-",
      "execution_count": null,
      "outputs": []
    },
    {
      "cell_type": "markdown",
      "id": "da114300",
      "metadata": {
        "id": "da114300"
      },
      "source": [
        "## Getting the total numbers of recipes in datbase\n"
      ]
    },
    {
      "cell_type": "code",
      "execution_count": null,
      "id": "0a4c5823",
      "metadata": {
        "id": "0a4c5823"
      },
      "outputs": [],
      "source": [
        "df = pd.read_sql_query(\"SELECT recipeId FROM recipes\",conn)\n",
        "length = len(df)\n",
        "print(f\"There are {length} recipes in recipe book right now.\")\n",
        "\n"
      ]
    },
    {
      "cell_type": "markdown",
      "id": "d08a2670",
      "metadata": {
        "id": "d08a2670"
      },
      "source": [
        "### Listing every unique recipe name in the database"
      ]
    },
    {
      "cell_type": "code",
      "execution_count": null,
      "id": "1248849b",
      "metadata": {
        "id": "1248849b"
      },
      "outputs": [],
      "source": [
        "\n",
        "df = pd.read_sql_query(\"SELECT recipeName FROM recipes\",conn).drop_duplicates()\n",
        "df.index += 1 \n",
        "  \n",
        "def highlight_cols(x):\n",
        "    df = x.copy()\n",
        "    df.loc[:, :] =  'color : red'\n",
        "    return df \n",
        "display(df.style.apply(highlight_cols, axis = None))\n",
        "\n",
        "\n",
        "\n",
        "\n",
        "\n",
        "\n",
        "\n"
      ]
    },
    {
      "cell_type": "markdown",
      "id": "07eb09bb",
      "metadata": {
        "id": "07eb09bb"
      },
      "source": [
        "####  Types of meals are shown according to their popularity in following piechart and Histograms"
      ]
    },
    {
      "cell_type": "code",
      "execution_count": null,
      "id": "59218fdb",
      "metadata": {
        "scrolled": true,
        "id": "59218fdb"
      },
      "outputs": [],
      "source": [
        "df = pd.read_sql_query(\"SELECT category FROM recipes\",conn)\n",
        "\n",
        "df.value_counts().plot(kind='pie', autopct='%.0f%%')\n",
        "plt.axis('equal')\n",
        "plt.title('Number of categories in dataset')\n"
      ]
    },
    {
      "cell_type": "code",
      "execution_count": null,
      "id": "c80468ca",
      "metadata": {
        "id": "c80468ca"
      },
      "outputs": [],
      "source": [
        "df.value_counts().plot(kind='barh')\n",
        "plt.title('Number of categories in dataset')\n",
        "plt.xlabel('Frequency')"
      ]
    },
    {
      "cell_type": "markdown",
      "id": "dc8d93c1",
      "metadata": {
        "id": "dc8d93c1"
      },
      "source": [
        "#### No of users that have uploded their recipe in the app"
      ]
    },
    {
      "cell_type": "code",
      "execution_count": null,
      "id": "9faeb864",
      "metadata": {
        "scrolled": true,
        "id": "9faeb864"
      },
      "outputs": [],
      "source": [
        "df = pd.read_sql_query(\"SELECT authorId FROM recipes\",conn)\n",
        "users = df.values.tolist()\n",
        "visited = []\n",
        "for i in range(0, len(users)):\n",
        "    \n",
        "    if users[i] not in visited: \n",
        "        \n",
        "        visited.append(users[i])\n",
        "no_of_users = len(visited)\n",
        "\n",
        "\n",
        "print(f\" Till now  {no_of_users}  users  have uploaded recipe to 'What's Cooking'  \")\n"
      ]
    },
    {
      "cell_type": "markdown",
      "source": [
        "# Most Favourite recipes \n"
      ],
      "metadata": {
        "id": "uY1jIz0PxANt"
      },
      "id": "uY1jIz0PxANt"
    },
    {
      "cell_type": "code",
      "source": [
        "\n",
        "df = pd.read_sql_query(\"SELECT recipeName, recipeID  FROM Recipes where recipeId in (select recipeId from RecipesFavoritedByUser)\",conn)\n",
        "count =  pd.read_sql_query(\"select recipeId from RecipesFavoritedByUser\",conn)\n",
        "df.index += 1\n",
        "print(df) \n",
        "df2 = count.value_counts().plot(kind='pie', autopct='%.0f%%')\n",
        "plt.axis('equal')\n",
        "plt.title('Most Favourite Recipe')\n",
        "\n",
        "\n",
        "    \n",
        "\n",
        "\n",
        "\n",
        "\n",
        "\n",
        "\n"
      ],
      "metadata": {
        "id": "UUcO3DSFc3RQ"
      },
      "id": "UUcO3DSFc3RQ",
      "execution_count": null,
      "outputs": []
    },
    {
      "cell_type": "code",
      "source": [
        ""
      ],
      "metadata": {
        "id": "GxSXEcbEVWd6"
      },
      "id": "GxSXEcbEVWd6",
      "execution_count": null,
      "outputs": []
    }
  ],
  "metadata": {
    "kernelspec": {
      "display_name": "Python 3 (ipykernel)",
      "language": "python",
      "name": "python3"
    },
    "language_info": {
      "codemirror_mode": {
        "name": "ipython",
        "version": 3
      },
      "file_extension": ".py",
      "mimetype": "text/x-python",
      "name": "python",
      "nbconvert_exporter": "python",
      "pygments_lexer": "ipython3",
      "version": "3.9.7"
    },
    "colab": {
      "name": "whats cooking data science.ipynb",
      "provenance": [],
      "collapsed_sections": []
    }
  },
  "nbformat": 4,
  "nbformat_minor": 5
}