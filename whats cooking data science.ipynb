{
 "cells": [
  {
   "cell_type": "markdown",
   "id": "65ee6527",
   "metadata": {},
   "source": [
    "# Establishing connection with database"
   ]
  },
  {
   "cell_type": "code",
   "execution_count": 284,
   "id": "4232882b",
   "metadata": {},
   "outputs": [],
   "source": [
    "import pyodbc\n",
    "import pandas as pd\n",
    "import numpy as np\n",
    "import matplotlib.pyplot as plt\n",
    "%matplotlib inline\n",
    "server = 'whats-cooking.database.windows.net'\n",
    "database = 'whats-cooking'\n",
    "username = 'abehrhof'\n",
    "password = 'E9RE8ih!fBaE9P$^*5z$Ztr*'\n",
    "conn = pyodbc.connect('DRIVER={ODBC Driver 17 for SQL Server};SERVER='+server+';DATABASE='+database+';UID='+username+';PWD='+ password)"
   ]
  },
  {
   "cell_type": "markdown",
   "id": "da114300",
   "metadata": {},
   "source": [
    "## Getting the total numbers of recipes in datbase\n"
   ]
  },
  {
   "cell_type": "code",
   "execution_count": 293,
   "id": "0a4c5823",
   "metadata": {},
   "outputs": [
    {
     "name": "stdout",
     "output_type": "stream",
     "text": [
      "There are 2 recipes in recipe book right now.\n"
     ]
    }
   ],
   "source": [
    "df = pd.read_sql_query(\"SELECT recipeId FROM recipes\",conn)\n",
    "length = len(df)\n",
    "print(f\"There are {length} recipes in recipe book right now.\")\n",
    "\n"
   ]
  },
  {
   "cell_type": "markdown",
   "id": "d08a2670",
   "metadata": {},
   "source": [
    "### Listing every unique recipe name in the database"
   ]
  },
  {
   "cell_type": "code",
   "execution_count": 294,
   "id": "1248849b",
   "metadata": {},
   "outputs": [
    {
     "data": {
      "text/html": [
       "<style type=\"text/css\">\n",
       "#T_86e7d_row0_col0, #T_86e7d_row1_col0 {\n",
       "  color: green;\n",
       "}\n",
       "</style>\n",
       "<table id=\"T_86e7d_\">\n",
       "  <thead>\n",
       "    <tr>\n",
       "      <th class=\"blank level0\" >&nbsp;</th>\n",
       "      <th class=\"col_heading level0 col0\" >recipeName</th>\n",
       "    </tr>\n",
       "  </thead>\n",
       "  <tbody>\n",
       "    <tr>\n",
       "      <th id=\"T_86e7d_level0_row0\" class=\"row_heading level0 row0\" >1</th>\n",
       "      <td id=\"T_86e7d_row0_col0\" class=\"data row0 col0\" >Easy Veggie Pasta</td>\n",
       "    </tr>\n",
       "    <tr>\n",
       "      <th id=\"T_86e7d_level0_row1\" class=\"row_heading level0 row1\" >2</th>\n",
       "      <td id=\"T_86e7d_row1_col0\" class=\"data row1 col0\" >Green Chile Chicken Stew</td>\n",
       "    </tr>\n",
       "  </tbody>\n",
       "</table>\n"
      ],
      "text/plain": [
       "<pandas.io.formats.style.Styler at 0x7f9ff30d7b50>"
      ]
     },
     "metadata": {},
     "output_type": "display_data"
    }
   ],
   "source": [
    "\n",
    "df = pd.read_sql_query(\"SELECT recipeName FROM recipes\",conn).drop_duplicates()\n",
    "df.index += 1 \n",
    "  \n",
    "def highlight_cols(x):\n",
    "    df = x.copy()\n",
    "    df.loc[:, :] =  'color : green'\n",
    "    return df \n",
    "display(df.style.apply(highlight_cols, axis = None))\n",
    "\n",
    "\n",
    "\n",
    "\n",
    "\n",
    "\n",
    "\n"
   ]
  },
  {
   "cell_type": "markdown",
   "id": "07eb09bb",
   "metadata": {},
   "source": [
    "####  Types of meals are shown according to their popularity in following piechart and Histograms"
   ]
  },
  {
   "cell_type": "code",
   "execution_count": 295,
   "id": "59218fdb",
   "metadata": {
    "scrolled": true
   },
   "outputs": [
    {
     "data": {
      "text/plain": [
       "Text(0.5, 1.0, 'Number of appearances in dataset')"
      ]
     },
     "execution_count": 295,
     "metadata": {},
     "output_type": "execute_result"
    },
    {
     "data": {
      "image/png": "[encoded data removed]",
      "text/plain": [
       "<Figure size 432x288 with 1 Axes>"
      ]
     },
     "metadata": {},
     "output_type": "display_data"
    }
   ],
   "source": [
    "df = pd.read_sql_query(\"SELECT category FROM recipes\",conn)\n",
    "\n",
    "df.value_counts().plot(kind='pie')\n",
    "plt.axis('equal')\n",
    "plt.title('Number of appearances in dataset')\n"
   ]
  },
  {
   "cell_type": "code",
   "execution_count": 296,
   "id": "c80468ca",
   "metadata": {},
   "outputs": [
    {
     "data": {
      "text/plain": [
       "Text(0.5, 0, 'Frequency')"
      ]
     },
     "execution_count": 296,
     "metadata": {},
     "output_type": "execute_result"
    },
    {
     "data": {
      "image/png": "[encoded data removed]",
      "text/plain": [
       "<Figure size 432x288 with 1 Axes>"
      ]
     },
     "metadata": {
      "needs_background": "light"
     },
     "output_type": "display_data"
    }
   ],
   "source": [
    "df.value_counts().plot(kind='barh')\n",
    "plt.title('Number of appearances in dataset')\n",
    "plt.xlabel('Frequency')"
   ]
  },
  {
   "cell_type": "markdown",
   "id": "dc8d93c1",
   "metadata": {},
   "source": [
    "#### No of users that have uploded their recipe in the app"
   ]
  },
  {
   "cell_type": "code",
   "execution_count": 297,
   "id": "9faeb864",
   "metadata": {
    "scrolled": true
   },
   "outputs": [
    {
     "name": "stdout",
     "output_type": "stream",
     "text": [
      " Till now  2  users  have uploaded recipe to 'What's Cooking' \n"
     ]
    }
   ],
   "source": [
    "df = pd.read_sql_query(\"SELECT authorId FROM recipes\",conn)\n",
    "users = df.values.tolist()\n",
    "visited = []\n",
    "for i in range(0, len(users)):\n",
    "    \n",
    "    if users[i] not in visited: \n",
    "        \n",
    "        visited.append(users[i])\n",
    "no_of_users = len(visited)\n",
    "\n",
    "\n",
    "print(f\" Till now  {no_of_users}  users  have uploaded recipe to 'What's Cooking' \")\n"
   ]
  }
 ],
 "metadata": {
  "kernelspec": {
   "display_name": "Python 3 (ipykernel)",
   "language": "python",
   "name": "python3"
  },
  "language_info": {
   "codemirror_mode": {
    "name": "ipython",
    "version": 3
   },
   "file_extension": ".py",
   "mimetype": "text/x-python",
   "name": "python",
   "nbconvert_exporter": "python",
   "pygments_lexer": "ipython3",
   "version": "3.9.7"
  }
 },
 "nbformat": 4,
 "nbformat_minor": 5
}
